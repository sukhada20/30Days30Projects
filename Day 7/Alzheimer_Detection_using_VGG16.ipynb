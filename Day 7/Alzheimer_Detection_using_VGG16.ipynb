{
  "metadata": {
    "kernelspec": {
      "language": "python",
      "display_name": "Python 3",
      "name": "python3"
    },
    "language_info": {
      "name": "python",
      "version": "3.10.14",
      "mimetype": "text/x-python",
      "codemirror_mode": {
        "name": "ipython",
        "version": 3
      },
      "pygments_lexer": "ipython3",
      "nbconvert_exporter": "python",
      "file_extension": ".py"
    },
    "kaggle": {
      "accelerator": "gpu",
      "dataSources": [
        {
          "sourceId": 4229472,
          "sourceType": "datasetVersion",
          "datasetId": 2492800
        }
      ],
      "dockerImageVersionId": 30787,
      "isInternetEnabled": true,
      "language": "python",
      "sourceType": "notebook",
      "isGpuEnabled": true
    },
    "colab": {
      "provenance": []
    }
  },
  "nbformat_minor": 0,
  "nbformat": 4,
  "cells": [
    {
      "cell_type": "code",
      "source": [
        "import random\n",
        "import matplotlib.pyplot as plt\n",
        "import numpy as np\n",
        "import tensorflow as tf\n",
        "from tensorflow.keras import Sequential\n",
        "from tensorflow.keras.layers import Conv2D, Dense, MaxPooling2D, Flatten, Dropout, BatchNormalization, GlobalAveragePooling2D\n",
        "from tensorflow.keras.optimizers import Adam\n",
        "from tensorflow.keras.applications import VGG16\n",
        "from tensorflow.keras.callbacks import ReduceLROnPlateau\n",
        "from dataclasses import dataclass"
      ],
      "metadata": {
        "_uuid": "8f2839f25d086af736a60e9eeb907d3b93b6e0e5",
        "_cell_guid": "b1076dfc-b9ad-4769-8c92-a6c4dae69d19",
        "trusted": true,
        "execution": {
          "iopub.status.busy": "2024-11-02T13:00:05.106392Z",
          "iopub.execute_input": "2024-11-02T13:00:05.107083Z",
          "iopub.status.idle": "2024-11-02T13:00:05.119212Z",
          "shell.execute_reply.started": "2024-11-02T13:00:05.107043Z",
          "shell.execute_reply": "2024-11-02T13:00:05.118362Z"
        },
        "id": "6y1TrwlNCpr2"
      },
      "outputs": [],
      "execution_count": 1
    },
    {
      "cell_type": "code",
      "source": [
        "import kagglehub\n",
        "path = kagglehub.dataset_download(\"marcopinamonti/alzheimer-mri-4-classes-dataset\")\n",
        "print(\"Path to dataset files:\", path)"
      ],
      "metadata": {
        "colab": {
          "base_uri": "https://localhost:8080/"
        },
        "id": "rMej57vvCtB9",
        "outputId": "79e0379c-084d-418a-cb94-02ae1aca9824"
      },
      "execution_count": 3,
      "outputs": [
        {
          "output_type": "stream",
          "name": "stdout",
          "text": [
            "Downloading from https://www.kaggle.com/api/v1/datasets/download/marcopinamonti/alzheimer-mri-4-classes-dataset?dataset_version_number=1...\n"
          ]
        },
        {
          "output_type": "stream",
          "name": "stderr",
          "text": [
            "100%|██████████| 34.1M/34.1M [00:00<00:00, 138MB/s]"
          ]
        },
        {
          "output_type": "stream",
          "name": "stdout",
          "text": [
            "Extracting files...\n"
          ]
        },
        {
          "output_type": "stream",
          "name": "stderr",
          "text": [
            "\n"
          ]
        },
        {
          "output_type": "stream",
          "name": "stdout",
          "text": [
            "Path to dataset files: /root/.cache/kagglehub/datasets/marcopinamonti/alzheimer-mri-4-classes-dataset/versions/1\n"
          ]
        }
      ]
    },
    {
      "cell_type": "code",
      "source": [
        "BATCH_SIZE = 32\n",
        "IMG_SIZE = (224, 224)\n",
        "DATA_DIR = \"/root/.cache/kagglehub/datasets/marcopinamonti/alzheimer-mri-4-classes-dataset/versions/1\"\n",
        "NUM_CLASSES = 4"
      ],
      "metadata": {
        "trusted": true,
        "execution": {
          "iopub.status.busy": "2024-11-02T13:00:14.275589Z",
          "iopub.execute_input": "2024-11-02T13:00:14.275975Z",
          "iopub.status.idle": "2024-11-02T13:00:14.280760Z",
          "shell.execute_reply.started": "2024-11-02T13:00:14.275938Z",
          "shell.execute_reply": "2024-11-02T13:00:14.279892Z"
        },
        "id": "lqih5Ar_Cpr6"
      },
      "outputs": [],
      "execution_count": 4
    },
    {
      "cell_type": "code",
      "source": [
        "train_dataset = tf.keras.utils.image_dataset_from_directory(\n",
        "    DATA_DIR,\n",
        "    validation_split=0.2,\n",
        "    subset=\"training\",\n",
        "    seed=42,\n",
        "    image_size=IMG_SIZE,\n",
        "    batch_size=BATCH_SIZE\n",
        ")\n",
        "\n",
        "validation_dataset = tf.keras.utils.image_dataset_from_directory(\n",
        "    DATA_DIR,\n",
        "    validation_split=0.2,\n",
        "    subset=\"validation\",\n",
        "    seed=42,\n",
        "    image_size=IMG_SIZE,\n",
        "    batch_size=BATCH_SIZE\n",
        ")\n",
        "\n",
        "val_batches = tf.data.experimental.cardinality(validation_dataset)\n",
        "test_dataset = validation_dataset.take(val_batches // 2)\n",
        "validation_dataset = validation_dataset.skip(val_batches // 2)\n"
      ],
      "metadata": {
        "trusted": true,
        "execution": {
          "iopub.status.busy": "2024-11-02T13:00:26.378108Z",
          "iopub.execute_input": "2024-11-02T13:00:26.378521Z",
          "iopub.status.idle": "2024-11-02T13:00:34.235958Z",
          "shell.execute_reply.started": "2024-11-02T13:00:26.378474Z",
          "shell.execute_reply": "2024-11-02T13:00:34.235214Z"
        },
        "colab": {
          "base_uri": "https://localhost:8080/"
        },
        "id": "Pljw5YOjCpr7",
        "outputId": "4fa6d01d-6494-4d90-a8f9-228013435702"
      },
      "outputs": [
        {
          "output_type": "stream",
          "name": "stdout",
          "text": [
            "Found 6400 files belonging to 1 classes.\n",
            "Using 5120 files for training.\n",
            "Found 6400 files belonging to 1 classes.\n",
            "Using 1280 files for validation.\n"
          ]
        }
      ],
      "execution_count": 5
    },
    {
      "cell_type": "code",
      "source": [
        "def preprocess_and_categorical(image, label):\n",
        "    image = tf.keras.layers.Rescaling(1./255)(image)\n",
        "    label = tf.one_hot(label, depth=NUM_CLASSES)\n",
        "    return image, label"
      ],
      "metadata": {
        "trusted": true,
        "execution": {
          "iopub.status.busy": "2024-11-02T13:00:44.858546Z",
          "iopub.execute_input": "2024-11-02T13:00:44.859200Z",
          "iopub.status.idle": "2024-11-02T13:00:44.864427Z",
          "shell.execute_reply.started": "2024-11-02T13:00:44.859160Z",
          "shell.execute_reply": "2024-11-02T13:00:44.863381Z"
        },
        "id": "qD3dga4ICpsA"
      },
      "outputs": [],
      "execution_count": 6
    },
    {
      "cell_type": "code",
      "source": [
        "train_dataset = train_dataset.map(preprocess_and_categorical)\n",
        "validation_dataset = validation_dataset.map(preprocess_and_categorical)\n",
        "test_dataset = test_dataset.map(preprocess_and_categorical)"
      ],
      "metadata": {
        "trusted": true,
        "execution": {
          "iopub.status.busy": "2024-11-02T13:00:56.149264Z",
          "iopub.execute_input": "2024-11-02T13:00:56.149672Z",
          "iopub.status.idle": "2024-11-02T13:00:56.244150Z",
          "shell.execute_reply.started": "2024-11-02T13:00:56.149636Z",
          "shell.execute_reply": "2024-11-02T13:00:56.243343Z"
        },
        "id": "p0doWt4ECpsC"
      },
      "outputs": [],
      "execution_count": 7
    },
    {
      "cell_type": "code",
      "source": [
        "for images, labels in train_dataset.take(1):\n",
        "    print(f'Train images shape: {images.shape}')\n",
        "    print(f'Train labels shape: {labels.shape}')\n",
        "\n",
        "for images, labels in validation_dataset.take(1):\n",
        "    print(f'Validation images shape: {images.shape}')\n",
        "    print(f'Validation labels shape: {labels.shape}')\n",
        "\n",
        "for images, labels in test_dataset.take(1):\n",
        "    print(f'Test images shape: {images.shape}')\n",
        "    print(f'Test labels shape: {labels.shape}')"
      ],
      "metadata": {
        "trusted": true,
        "execution": {
          "iopub.status.busy": "2024-11-02T13:01:17.435108Z",
          "iopub.execute_input": "2024-11-02T13:01:17.435636Z",
          "iopub.status.idle": "2024-11-02T13:01:19.050564Z",
          "shell.execute_reply.started": "2024-11-02T13:01:17.435596Z",
          "shell.execute_reply": "2024-11-02T13:01:19.049570Z"
        },
        "colab": {
          "base_uri": "https://localhost:8080/"
        },
        "id": "m-KcdZUZCpsD",
        "outputId": "04ebfd8b-99d9-4d61-a241-be36fdf1a788"
      },
      "outputs": [
        {
          "output_type": "stream",
          "name": "stdout",
          "text": [
            "Train images shape: (32, 224, 224, 3)\n",
            "Train labels shape: (32, 4)\n",
            "Validation images shape: (32, 224, 224, 3)\n",
            "Validation labels shape: (32, 4)\n",
            "Test images shape: (32, 224, 224, 3)\n",
            "Test labels shape: (32, 4)\n"
          ]
        }
      ],
      "execution_count": 8
    },
    {
      "cell_type": "code",
      "source": [
        "@dataclass(frozen=True)\n",
        "class DatasetConfig:\n",
        "    NUM_CLASSES: int = 4\n",
        "    IMG_HEIGHT: int = 224\n",
        "    IMG_WIDTH: int = 224\n",
        "    NUM_CHANNELS: int = 3\n",
        "\n",
        "@dataclass(frozen=True)\n",
        "class TrainingConfig:\n",
        "    EPOCHS: int = 3\n",
        "    BATCH_SIZE: int = BATCH_SIZE\n",
        "    LEARNING_RATE: float = 0.0001"
      ],
      "metadata": {
        "trusted": true,
        "execution": {
          "iopub.status.busy": "2024-11-02T13:01:34.271260Z",
          "iopub.execute_input": "2024-11-02T13:01:34.272191Z",
          "iopub.status.idle": "2024-11-02T13:01:34.279375Z",
          "shell.execute_reply.started": "2024-11-02T13:01:34.272153Z",
          "shell.execute_reply": "2024-11-02T13:01:34.278368Z"
        },
        "id": "pKVqP1C1CpsF"
      },
      "outputs": [],
      "execution_count": 16
    },
    {
      "cell_type": "code",
      "source": [
        "base_model = VGG16(weights='imagenet', include_top=False, input_shape=(224, 224, 3))\n",
        "\n",
        "for layer in base_model.layers[:-4]:\n",
        "    layer.trainable = False\n",
        "\n",
        "model = Sequential([\n",
        "    base_model,\n",
        "    GlobalAveragePooling2D(),\n",
        "    BatchNormalization(),\n",
        "    Dense(512, activation='relu'),\n",
        "    Dropout(0.3),\n",
        "    BatchNormalization(),\n",
        "    Dense(256, activation='relu'),\n",
        "    Dropout(0.3),\n",
        "    Dense(NUM_CLASSES, activation='softmax')\n",
        "])"
      ],
      "metadata": {
        "trusted": true,
        "execution": {
          "iopub.status.busy": "2024-11-02T13:01:41.707375Z",
          "iopub.execute_input": "2024-11-02T13:01:41.707774Z",
          "iopub.status.idle": "2024-11-02T13:01:44.165877Z",
          "shell.execute_reply.started": "2024-11-02T13:01:41.707738Z",
          "shell.execute_reply": "2024-11-02T13:01:44.164945Z"
        },
        "id": "mC78QGt1CpsH",
        "colab": {
          "base_uri": "https://localhost:8080/"
        },
        "outputId": "95c75729-7c8a-425e-aaaf-72cc9e4fac1b"
      },
      "outputs": [
        {
          "output_type": "stream",
          "name": "stdout",
          "text": [
            "Downloading data from https://storage.googleapis.com/tensorflow/keras-applications/vgg16/vgg16_weights_tf_dim_ordering_tf_kernels_notop.h5\n",
            "\u001b[1m58889256/58889256\u001b[0m \u001b[32m━━━━━━━━━━━━━━━━━━━━\u001b[0m\u001b[37m\u001b[0m \u001b[1m0s\u001b[0m 0us/step\n"
          ]
        }
      ],
      "execution_count": 10
    },
    {
      "cell_type": "code",
      "source": [
        "optimizer = Adam(learning_rate=TrainingConfig.LEARNING_RATE)\n",
        "model.compile(optimizer=optimizer, loss='categorical_crossentropy', metrics=['accuracy'])"
      ],
      "metadata": {
        "trusted": true,
        "execution": {
          "iopub.status.busy": "2024-11-02T13:02:00.059214Z",
          "iopub.execute_input": "2024-11-02T13:02:00.060068Z",
          "iopub.status.idle": "2024-11-02T13:02:00.071103Z",
          "shell.execute_reply.started": "2024-11-02T13:02:00.060026Z",
          "shell.execute_reply": "2024-11-02T13:02:00.070102Z"
        },
        "id": "Yx2UNcrKCpsJ"
      },
      "outputs": [],
      "execution_count": 11
    },
    {
      "cell_type": "code",
      "source": [
        "lr_scheduler = ReduceLROnPlateau(monitor='val_loss', factor=0.5, patience=3, min_lr=1e-6)"
      ],
      "metadata": {
        "trusted": true,
        "execution": {
          "iopub.status.busy": "2024-11-02T13:02:05.922881Z",
          "iopub.execute_input": "2024-11-02T13:02:05.923265Z",
          "iopub.status.idle": "2024-11-02T13:02:05.928078Z",
          "shell.execute_reply.started": "2024-11-02T13:02:05.923227Z",
          "shell.execute_reply": "2024-11-02T13:02:05.926879Z"
        },
        "id": "Pnu-SEu_CpsK"
      },
      "outputs": [],
      "execution_count": 12
    },
    {
      "cell_type": "code",
      "source": [
        "history = model.fit(\n",
        "    train_dataset,\n",
        "    validation_data=validation_dataset,\n",
        "    epochs=TrainingConfig.EPOCHS,\n",
        "    callbacks=[lr_scheduler],\n",
        "    verbose=1\n",
        ")"
      ],
      "metadata": {
        "trusted": true,
        "execution": {
          "iopub.status.busy": "2024-11-02T13:02:12.611649Z",
          "iopub.execute_input": "2024-11-02T13:02:12.612016Z",
          "iopub.status.idle": "2024-11-02T13:15:03.290058Z",
          "shell.execute_reply.started": "2024-11-02T13:02:12.611983Z",
          "shell.execute_reply": "2024-11-02T13:15:03.288866Z"
        },
        "id": "EjD58dpYCpsK",
        "colab": {
          "base_uri": "https://localhost:8080/"
        },
        "outputId": "c1324b08-81df-4e48-a3a8-a6c57dede973"
      },
      "outputs": [
        {
          "output_type": "stream",
          "name": "stdout",
          "text": [
            "Epoch 1/3\n",
            "\u001b[1m160/160\u001b[0m \u001b[32m━━━━━━━━━━━━━━━━━━━━\u001b[0m\u001b[37m\u001b[0m \u001b[1m3481s\u001b[0m 22s/step - accuracy: 0.9859 - loss: 0.0891 - val_accuracy: 1.0000 - val_loss: 0.1005 - learning_rate: 1.0000e-04\n",
            "Epoch 2/3\n",
            "\u001b[1m160/160\u001b[0m \u001b[32m━━━━━━━━━━━━━━━━━━━━\u001b[0m\u001b[37m\u001b[0m \u001b[1m3445s\u001b[0m 22s/step - accuracy: 0.9998 - loss: 0.0104 - val_accuracy: 1.0000 - val_loss: 0.0029 - learning_rate: 1.0000e-04\n",
            "Epoch 3/3\n",
            "\u001b[1m160/160\u001b[0m \u001b[32m━━━━━━━━━━━━━━━━━━━━\u001b[0m\u001b[37m\u001b[0m \u001b[1m3506s\u001b[0m 22s/step - accuracy: 1.0000 - loss: 0.0035 - val_accuracy: 1.0000 - val_loss: 2.8487e-04 - learning_rate: 1.0000e-04\n"
          ]
        }
      ],
      "execution_count": 17
    },
    {
      "cell_type": "code",
      "source": [
        "model.save(\"alzheimer_model.h5\")"
      ],
      "metadata": {
        "trusted": true,
        "execution": {
          "iopub.status.busy": "2024-11-02T13:15:22.230423Z",
          "iopub.execute_input": "2024-11-02T13:15:22.230825Z",
          "iopub.status.idle": "2024-11-02T13:15:22.487635Z",
          "shell.execute_reply.started": "2024-11-02T13:15:22.230785Z",
          "shell.execute_reply": "2024-11-02T13:15:22.486771Z"
        },
        "id": "H-w8u2H5CpsL",
        "colab": {
          "base_uri": "https://localhost:8080/"
        },
        "outputId": "0b669f9b-a9c4-4cc7-f195-9849c7664550"
      },
      "outputs": [
        {
          "output_type": "stream",
          "name": "stderr",
          "text": [
            "WARNING:absl:You are saving your model as an HDF5 file via `model.save()` or `keras.saving.save_model(model)`. This file format is considered legacy. We recommend using instead the native Keras format, e.g. `model.save('my_model.keras')` or `keras.saving.save_model(model, 'my_model.keras')`. \n"
          ]
        }
      ],
      "execution_count": 18
    },
    {
      "cell_type": "code",
      "source": [
        "from tensorflow.keras.models import load_model\n",
        "loaded_model = load_model(\"alzheimer_model.h5\")"
      ],
      "metadata": {
        "trusted": true,
        "execution": {
          "iopub.status.busy": "2024-11-02T13:15:33.365629Z",
          "iopub.execute_input": "2024-11-02T13:15:33.366796Z",
          "iopub.status.idle": "2024-11-02T13:15:33.623012Z",
          "shell.execute_reply.started": "2024-11-02T13:15:33.366742Z",
          "shell.execute_reply": "2024-11-02T13:15:33.621964Z"
        },
        "id": "nf1V55zlCpsL",
        "colab": {
          "base_uri": "https://localhost:8080/"
        },
        "outputId": "4d770444-1059-489f-962c-f6d7a83ca7f0"
      },
      "outputs": [
        {
          "output_type": "stream",
          "name": "stderr",
          "text": [
            "WARNING:absl:Compiled the loaded model, but the compiled metrics have yet to be built. `model.compile_metrics` will be empty until you train or evaluate the model.\n"
          ]
        }
      ],
      "execution_count": 23
    },
    {
      "cell_type": "code",
      "source": [
        "import numpy as np\n",
        "from tensorflow.keras.preprocessing import image\n",
        "import matplotlib.pyplot as plt\n",
        "\n",
        "# Define the class names\n",
        "class_names = ['MildDemented', 'ModerateDemented', 'NonDemented', 'VeryMildDemented']  # Adjust to match your class order\n",
        "\n",
        "# Path to the new image\n",
        "image_path = \"/content/test_image.jpg\"  # Replace with your image path\n",
        "\n",
        "# Load and preprocess the image\n",
        "img = image.load_img(image_path, target_size=(224, 224))\n",
        "img_array = image.img_to_array(img)\n",
        "img_array = np.expand_dims(img_array, axis=0)  # Add batch dimension\n",
        "img_array = img_array / 255.0  # Normalize as done during training\n",
        "\n",
        "# Predict the class\n",
        "predictions = loaded_model.predict(img_array)\n",
        "predicted_class = np.argmax(predictions, axis=1)[0]\n",
        "\n",
        "# Get the class name using the index\n",
        "predicted_class_name = class_names[predicted_class]\n",
        "\n",
        "# Display the image and predicted class name\n",
        "plt.imshow(img)\n",
        "plt.axis('off')\n",
        "plt.title(f\"Predicted Class: {predicted_class_name}\")\n",
        "plt.show()\n"
      ],
      "metadata": {
        "trusted": true,
        "execution": {
          "iopub.status.busy": "2024-11-02T13:20:18.099837Z",
          "iopub.execute_input": "2024-11-02T13:20:18.100822Z",
          "iopub.status.idle": "2024-11-02T13:20:18.384607Z",
          "shell.execute_reply.started": "2024-11-02T13:20:18.100780Z",
          "shell.execute_reply": "2024-11-02T13:20:18.383807Z"
        },
        "id": "tNQ91x1bCpsL",
        "outputId": "f853d1b9-4400-4db7-aacf-35241bc4b057",
        "colab": {
          "base_uri": "https://localhost:8080/",
          "height": 445
        }
      },
      "outputs": [
        {
          "output_type": "stream",
          "name": "stdout",
          "text": [
            "\u001b[1m1/1\u001b[0m \u001b[32m━━━━━━━━━━━━━━━━━━━━\u001b[0m\u001b[37m\u001b[0m \u001b[1m1s\u001b[0m 909ms/step\n"
          ]
        },
        {
          "output_type": "display_data",
          "data": {
            "text/plain": [
              "<Figure size 640x480 with 1 Axes>"
            ],
            "image/png": "[encoded data removed]"
          },
          "metadata": {}
        }
      ],
      "execution_count": 25
    }
  ]
}