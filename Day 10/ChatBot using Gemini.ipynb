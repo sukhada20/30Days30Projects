{
  "cells": [
    {
      "cell_type": "code",
      "source": [
        "!pip install -q google-generativeai gradio"
      ],
      "metadata": {
        "id": "2MpuDdvL9_VE"
      },
      "execution_count": 9,
      "outputs": []
    },
    {
      "cell_type": "code",
      "source": [
        "import google.generativeai as genai\n",
        "import threading\n",
        "\n",
        "genai.configure(api_key=\"YOUR_KEY\")\n",
        "\n",
        "model = genai.GenerativeModel(\n",
        "    model_name=\"gemini-1.5-flash\",\n",
        "    generation_config=genai.types.GenerationConfig(\n",
        "        max_output_tokens=512,\n",
        "        temperature=0.7,\n",
        "    )\n",
        ")\n",
        "\n",
        "chat = model.start_chat(history=[])"
      ],
      "metadata": {
        "id": "X9JymuUqAI3v"
      },
      "execution_count": 11,
      "outputs": []
    },
    {
      "cell_type": "code",
      "source": [
        "def chat_with_timeout(user_input, timeout_seconds=10):\n",
        "    result = {\"text\": \"⚠️ Gemini did not respond in time.\"}\n",
        "\n",
        "    def call_model():\n",
        "        try:\n",
        "            response = chat.send_message(user_input)\n",
        "            result[\"text\"] = response.text\n",
        "        except Exception as e:\n",
        "            result[\"text\"] = f\"❌ Error: {str(e)}\"\n",
        "\n",
        "    thread = threading.Thread(target=call_model)\n",
        "    thread.start()\n",
        "    thread.join(timeout_seconds)\n",
        "\n",
        "    if thread.is_alive():\n",
        "        return \"⚠️ Gemini is taking too long. Try again.\"\n",
        "    return result[\"text\"]"
      ],
      "metadata": {
        "id": "_vDAMkL7APAA"
      },
      "execution_count": 13,
      "outputs": []
    },
    {
      "cell_type": "code",
      "source": [
        "import gradio as gr\n",
        "\n",
        "with gr.Blocks() as demo:\n",
        "    gr.Markdown(\"Gemini 1.5 Flash Chatbot\")\n",
        "\n",
        "    chatbot = gr.Chatbot()\n",
        "    msg = gr.Textbox(placeholder=\"Ask anything...\")\n",
        "    clear = gr.Button(\"Clear Chat\")\n",
        "\n",
        "    def respond(user_msg, history):\n",
        "        reply = chat_with_timeout(user_msg)\n",
        "        history.append([user_msg, reply])\n",
        "        return history, \"\"\n",
        "\n",
        "    def reset_chat():\n",
        "        global chat\n",
        "        chat = model.start_chat(history=[])\n",
        "        return [], \"\"\n",
        "\n",
        "    msg.submit(respond, [msg, chatbot], [chatbot, msg])\n",
        "    clear.click(reset_chat, None, [chatbot, msg])\n",
        "\n",
        "demo.launch()"
      ],
      "metadata": {
        "colab": {
          "base_uri": "https://localhost:8080/",
          "height": 680
        },
        "id": "_F5T07vvASWT",
        "outputId": "aedb3f9a-1e86-4d26-bfa5-9afe4f476cb3"
      },
      "execution_count": 15,
      "outputs": [
        {
          "output_type": "stream",
          "name": "stderr",
          "text": [
            "<ipython-input-15-552973330>:6: UserWarning: You have not specified a value for the `type` parameter. Defaulting to the 'tuples' format for chatbot messages, but this is deprecated and will be removed in a future version of Gradio. Please set type='messages' instead, which uses openai-style dictionaries with 'role' and 'content' keys.\n",
            "  chatbot = gr.Chatbot()\n"
          ]
        },
        {
          "output_type": "stream",
          "name": "stdout",
          "text": [
            "It looks like you are running Gradio on a hosted a Jupyter notebook. For the Gradio app to work, sharing must be enabled. Automatically setting `share=True` (you can turn this off by setting `share=False` in `launch()` explicitly).\n",
            "\n",
            "Colab notebook detected. To show errors in colab notebook, set debug=True in launch()\n",
            "* Running on public URL: https://1a1ba308fa55ed3200.gradio.live\n",
            "\n",
            "This share link expires in 1 week. For free permanent hosting and GPU upgrades, run `gradio deploy` from the terminal in the working directory to deploy to Hugging Face Spaces (https://huggingface.co/spaces)\n"
          ]
        },
        {
          "output_type": "display_data",
          "data": {
            "text/plain": [
              "<IPython.core.display.HTML object>"
            ],
            "text/html": [
              "<div><iframe src=\"https://1a1ba308fa55ed3200.gradio.live\" width=\"100%\" height=\"500\" allow=\"autoplay; camera; microphone; clipboard-read; clipboard-write;\" frameborder=\"0\" allowfullscreen></iframe></div>"
            ]
          },
          "metadata": {}
        },
        {
          "output_type": "execute_result",
          "data": {
            "text/plain": []
          },
          "metadata": {},
          "execution_count": 15
        }
      ]
    },
    {
      "cell_type": "code",
      "source": [],
      "metadata": {
        "id": "5gLnFH2bB3Id"
      },
      "execution_count": null,
      "outputs": []
    }
  ],
  "metadata": {
    "colab": {
      "provenance": []
    },
    "kernelspec": {
      "display_name": "Python 3",
      "name": "python3"
    },
    "language_info": {
      "name": "python"
    }
  },
  "nbformat": 4,
  "nbformat_minor": 0
}