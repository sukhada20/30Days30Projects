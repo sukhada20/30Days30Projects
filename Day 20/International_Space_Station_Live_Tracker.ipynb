{
  "nbformat": 4,
  "nbformat_minor": 0,
  "metadata": {
    "colab": {
      "provenance": []
    },
    "kernelspec": {
      "name": "python3",
      "display_name": "Python 3"
    },
    "language_info": {
      "name": "python"
    }
  },
  "cells": [
    {
      "cell_type": "code",
      "source": [
        "!pip install --quiet streamlit streamlit-folium folium geopy pyngrok"
      ],
      "metadata": {
        "colab": {
          "base_uri": "https://localhost:8080/"
        },
        "id": "KxNvPK-5PJaO",
        "outputId": "ac760565-9f64-499e-e39c-4bd993987597"
      },
      "execution_count": 1,
      "outputs": [
        {
          "output_type": "stream",
          "name": "stdout",
          "text": [
            "\u001b[2K     \u001b[90m━━━━━━━━━━━━━━━━━━━━━━━━━━━━━━━━━━━━━━━━\u001b[0m \u001b[32m44.3/44.3 kB\u001b[0m \u001b[31m1.9 MB/s\u001b[0m eta \u001b[36m0:00:00\u001b[0m\n",
            "\u001b[2K   \u001b[90m━━━━━━━━━━━━━━━━━━━━━━━━━━━━━━━━━━━━━━━━\u001b[0m \u001b[32m10.1/10.1 MB\u001b[0m \u001b[31m68.5 MB/s\u001b[0m eta \u001b[36m0:00:00\u001b[0m\n",
            "\u001b[2K   \u001b[90m━━━━━━━━━━━━━━━━━━━━━━━━━━━━━━━━━━━━━━━━\u001b[0m \u001b[32m328.4/328.4 kB\u001b[0m \u001b[31m17.7 MB/s\u001b[0m eta \u001b[36m0:00:00\u001b[0m\n",
            "\u001b[2K   \u001b[90m━━━━━━━━━━━━━━━━━━━━━━━━━━━━━━━━━━━━━━━━\u001b[0m \u001b[32m6.9/6.9 MB\u001b[0m \u001b[31m99.5 MB/s\u001b[0m eta \u001b[36m0:00:00\u001b[0m\n",
            "\u001b[2K   \u001b[90m━━━━━━━━━━━━━━━━━━━━━━━━━━━━━━━━━━━━━━━━\u001b[0m \u001b[32m79.1/79.1 kB\u001b[0m \u001b[31m5.2 MB/s\u001b[0m eta \u001b[36m0:00:00\u001b[0m\n",
            "\u001b[?25h"
          ]
        }
      ]
    },
    {
      "cell_type": "code",
      "execution_count": 5,
      "metadata": {
        "colab": {
          "base_uri": "https://localhost:8080/"
        },
        "id": "NHRBKtsqOJc6",
        "outputId": "1783b522-f56f-453d-e5a7-a49e8a4cd71a"
      },
      "outputs": [
        {
          "output_type": "stream",
          "name": "stdout",
          "text": [
            "Overwriting app.py\n"
          ]
        }
      ],
      "source": [
        "%%writefile app.py\n",
        "import streamlit as st\n",
        "import requests, folium, pytz\n",
        "from datetime import datetime\n",
        "from streamlit_folium import st_folium\n",
        "from geopy.geocoders import Nominatim\n",
        "\n",
        "# ---------- CONFIG ----------\n",
        "PRIMARY_ISS_URL  = \"https://api.wheretheiss.at/v1/satellites/25544\"   # HTTPS ✅\n",
        "FALLBACK_ISS_URL = \"http://api.open-notify.org/iss-now.json\"          # HTTP (only if needed)\n",
        "ISS_PASSES_URL   = \"http://api.open-notify.org/iss-pass.json\"         # may be offline\n",
        "ASTROS_URL       = \"http://api.open-notify.org/astros.json\"\n",
        "\n",
        "# ---------- HELPERS ----------\n",
        "def _parse_wtia(j):\n",
        "    return j[\"latitude\"], j[\"longitude\"], j[\"timestamp\"]\n",
        "\n",
        "def _parse_open_notify(j):\n",
        "    return float(j[\"iss_position\"][\"latitude\"]), float(j[\"iss_position\"][\"longitude\"]), j[\"timestamp\"]\n",
        "\n",
        "@st.cache_data(ttl=15, show_spinner=False)\n",
        "def get_iss_location():\n",
        "    \"\"\"\n",
        "    Try the HTTPS WTIA API first; fall back to Open‑Notify if Colab blocks HTTP.\n",
        "    \"\"\"\n",
        "    for url, parser in [(PRIMARY_ISS_URL, _parse_wtia), (FALLBACK_ISS_URL, _parse_open_notify)]:\n",
        "        try:\n",
        "            r = requests.get(url, timeout=10)\n",
        "            r.raise_for_status()\n",
        "            return parser(r.json())\n",
        "        except Exception:\n",
        "            continue\n",
        "    st.error(\"Couldn’t reach any ISS location API right now. Please try again later.\")\n",
        "    st.stop()\n",
        "\n",
        "@st.cache_data(ttl=60*60)\n",
        "def get_astronauts():\n",
        "    return requests.get(ASTROS_URL, timeout=10).json()[\"people\"]\n",
        "\n",
        "@st.cache_data(ttl=60)\n",
        "def get_pass_times(lat, lon, n=5):\n",
        "    params = {\"lat\": lat, \"lon\": lon, \"n\": n}\n",
        "    r = requests.get(ISS_PASSES_URL, params=params, timeout=10)\n",
        "    r.raise_for_status()\n",
        "    return r.json()[\"response\"]\n",
        "\n",
        "def fmt_time(ts, tz=\"UTC\"):\n",
        "    return datetime.fromtimestamp(ts, pytz.timezone(tz)).strftime(\"%Y-%m-%d %H:%M:%S\")\n",
        "\n",
        "# ---------- STREAMLIT ----------\n",
        "st.set_page_config(\"ISS Tracker\", \"🛰️\", layout=\"wide\")\n",
        "st.title(\"🛰️ International Space Station — Live Tracker\")\n",
        "\n",
        "tab_live, tab_pass, tab_people = st.tabs([\"🌍 Live Map\", \"🔭 Next Pass\", \"👩‍🚀 Astronauts Aboard\"])\n",
        "\n",
        "# -------- LIVE MAP --------\n",
        "with tab_live:\n",
        "    st.markdown(\"### Current position (auto‑refreshes every 15 s)\")\n",
        "    lat, lon, ts = get_iss_location()\n",
        "    m = folium.Map(location=[lat, lon], zoom_start=2, control_scale=True)\n",
        "    folium.Marker(\n",
        "        [lat, lon],\n",
        "        tooltip=f\"ISS @ {fmt_time(ts)} UTC\",\n",
        "        icon=folium.Icon(color=\"red\", icon=\"rocket\", prefix=\"fa\")\n",
        "    ).add_to(m)\n",
        "    st_folium(m, width=700, height=500)\n",
        "\n",
        "# -------- NEXT PASS --------\n",
        "with tab_pass:\n",
        "    st.markdown(\"### When will the ISS fly over you?\")\n",
        "    addr = st.text_input(\"Enter a city / address:\")\n",
        "    if st.button(\"Find next passes\"):\n",
        "        if not addr:\n",
        "            st.warning(\"Please enter a location first 😊\")\n",
        "        else:\n",
        "            geolocator = Nominatim(user_agent=\"iss_tracker\")\n",
        "            loc = geolocator.geocode(addr)\n",
        "            if loc is None:\n",
        "                st.error(\"Location not found. Try something more specific.\")\n",
        "            else:\n",
        "                try:\n",
        "                    passes = get_pass_times(loc.latitude, loc.longitude)\n",
        "                    st.success(f\"Next {len(passes)} passes (UTC):\")\n",
        "                    for p in passes:\n",
        "                        st.write(f\"- **{fmt_time(p['risetime'])}** — duration {p['duration']} s\")\n",
        "                except Exception:\n",
        "                    st.info(\"Sorry, pass‑prediction data isn’t available right now.\")\n",
        "\n",
        "# -------- ASTRONAUTS --------\n",
        "with tab_people:\n",
        "    st.markdown(\"### Who’s in space right now?\")\n",
        "    people = get_astronauts()\n",
        "    st.write(f\"Total astronauts in space: **{len(people)}**\")\n",
        "    for p in people:\n",
        "        st.markdown(f\"- **{p['name']}** aboard *{p['craft']}*\")\n",
        "\n",
        "st.button(\"🔄 Manual refresh\")"
      ]
    },
    {
      "cell_type": "code",
      "source": [
        "!ngrok config add-authtoken *Your_Auth_Token*"
      ],
      "metadata": {
        "colab": {
          "base_uri": "https://localhost:8080/"
        },
        "id": "Rlwp8q7aQRUw",
        "outputId": "669d543d-43cf-409f-cab5-819423204a26"
      },
      "execution_count": 6,
      "outputs": [
        {
          "output_type": "stream",
          "name": "stdout",
          "text": [
            "Authtoken saved to configuration file: /root/.config/ngrok/ngrok.yml\n"
          ]
        }
      ]
    },
    {
      "cell_type": "code",
      "source": [
        "from pyngrok import ngrok\n",
        "public_url = ngrok.connect(8501, \"http\").public_url\n",
        "print(f\"🌐 Open your app at: {public_url}\")\n",
        "!streamlit run app.py &>/dev/null &"
      ],
      "metadata": {
        "colab": {
          "base_uri": "https://localhost:8080/"
        },
        "id": "JE1GpLW7PUbb",
        "outputId": "b5cfb0a4-7232-4cc8-ed40-b0cc9e09deb0"
      },
      "execution_count": 7,
      "outputs": [
        {
          "output_type": "stream",
          "name": "stdout",
          "text": [
            "🌐 Open your app at: https://9808-34-73-204-29.ngrok-free.app\n"
          ]
        }
      ]
    }
  ]
}